{
 "cells": [
  {
   "cell_type": "code",
   "execution_count": null,
   "id": "239fd0c0",
   "metadata": {},
   "outputs": [],
   "source": [
    "import gym, ray\n",
    "import numpy as np\n",
    "import copy\n",
    "import requests\n",
    "from ray.rllib.agents.ppo import PPOTrainer"
   ]
  },
  {
   "cell_type": "code",
   "execution_count": null,
   "id": "cdfb0f26",
   "metadata": {},
   "outputs": [],
   "source": [
    "ray.init(local_mode=True)"
   ]
  },
  {
   "cell_type": "markdown",
   "id": "b8f859ac",
   "metadata": {},
   "source": [
    "Note:\n",
    "\n",
    "- This is a two-player game. So, maybe we could fix one player to always do the same thing, and then learn against that?\n",
    "- Or, we could learn two agents?\n",
    "- Or ???"
   ]
  },
  {
   "cell_type": "code",
   "execution_count": null,
   "id": "bf74288d",
   "metadata": {},
   "outputs": [],
   "source": [
    "class IteratedRPSEnv(gym.Env):\n",
    "    \n",
    "    done  = False\n",
    "    \n",
    "    def __init__ (self, env_config):\n",
    "        # Note: Our action space is for ONE player; namely, exactly three\n",
    "        # choices:\n",
    "        #  - Rock\n",
    "        #  - Paper\n",
    "        #  - Scissors\n",
    "        self.action_space      = gym.spaces.Discrete(3)\n",
    "        \n",
    "        # Observe the last moves of the two players\n",
    "        self.observation_space = gym.spaces.Tuple((gym.spaces.Discrete(3), gym.spaces.Discrete(3)))\n",
    "\n",
    "        \"\"\"\n",
    "        self.observation_space = gym.spaces.Box(\n",
    "                                      low=0\n",
    "                                    , high=np.iinfo(np.int32).max\n",
    "                                    , shape=(1,)\n",
    "                                    , dtype=np.int32\n",
    "                                    )\n",
    "        \"\"\"\n",
    "        \n",
    "        # self.seed(1)\n",
    "        self.reset()\n",
    "    \n",
    "    \n",
    "    def reset (self):\n",
    "        self.done = False\n",
    "        return (0, 0)\n",
    "    \n",
    "    def action_to_int(self, action):\n",
    "        if action == \"Rock\":\n",
    "            return 0\n",
    "        elif action == \"Paper\":\n",
    "            return 1\n",
    "        elif action == \"Scissors\":\n",
    "            return 2\n",
    "        \n",
    "    def int_to_action(self, i):\n",
    "        if i == 0:\n",
    "            return \"Rock\"\n",
    "        elif i == 1:\n",
    "            return \"Paper\"\n",
    "        elif i == 2:\n",
    "            return \"Scissors\"\n",
    "    \n",
    "    def step (self, action):\n",
    "        # action is either 0 or 1 or 2.\n",
    "        \n",
    "        player1Action = self.int_to_action(action)\n",
    "        \n",
    "        player2Action = \"Rock\" # For now let's have a fixed strategy for the opponent\n",
    "        \n",
    "        assert action in [0, 1, 2], \"Unknown action!\"\n",
    "        \n",
    "        # We are done once \"step\" is called; a round of the game is a single episode.\n",
    "        self.done = True\n",
    "        \n",
    "        data = { \"player1Action\": player1Action\n",
    "               , \"player2Action\": player2Action\n",
    "               }\n",
    "        \n",
    "        # Do a post to the server; get the payoffs.\n",
    "        response = requests.post(\"http://localhost:3000/play\", json=data).json()\n",
    "        \n",
    "        reward = response[\"player1Payoff\"]\n",
    "        \n",
    "        obs = (self.action_to_int (player1Action), self.action_to_int (player2Action))\n",
    "        \n",
    "        return [ obs, reward, self.done, response ]"
   ]
  },
  {
   "cell_type": "code",
   "execution_count": null,
   "id": "25f6d324",
   "metadata": {},
   "outputs": [],
   "source": [
    "env = IteratedRPSEnv(env_config = {})"
   ]
  },
  {
   "cell_type": "code",
   "execution_count": null,
   "id": "19ddbb70",
   "metadata": {},
   "outputs": [],
   "source": [
    "env.step(action=0)"
   ]
  },
  {
   "cell_type": "markdown",
   "id": "d6e0fe49",
   "metadata": {},
   "source": [
    "### Let's try training it!"
   ]
  },
  {
   "cell_type": "code",
   "execution_count": null,
   "id": "d21f81ee",
   "metadata": {},
   "outputs": [],
   "source": [
    "trainer = PPOTrainer(env=IteratedRPSEnv, config={\n",
    "    \"framework\": \"tf2\",\n",
    "    \"num_workers\": 1,\n",
    "    \"env_config\": {},\n",
    "    \"create_env_on_driver\": True\n",
    "})"
   ]
  },
  {
   "cell_type": "code",
   "execution_count": null,
   "id": "800948a8",
   "metadata": {},
   "outputs": [],
   "source": [
    "for i in range(10):\n",
    "    print(f\"Training loop {i}\")\n",
    "    trainer.train()"
   ]
  },
  {
   "cell_type": "code",
   "execution_count": null,
   "id": "5fc9671a",
   "metadata": {},
   "outputs": [],
   "source": [
    "trainer.evaluate()"
   ]
  },
  {
   "cell_type": "code",
   "execution_count": null,
   "id": "16259689",
   "metadata": {},
   "outputs": [],
   "source": [
    "# Then, open TensorBoard:\n",
    "# cd ~/ray_results && conda activate rlib-client && tensorboard --logdir ."
   ]
  }
 ],
 "metadata": {
  "kernelspec": {
   "display_name": "Python 3 (ipykernel)",
   "language": "python",
   "name": "python3"
  },
  "language_info": {
   "codemirror_mode": {
    "name": "ipython",
    "version": 3
   },
   "file_extension": ".py",
   "mimetype": "text/x-python",
   "name": "python",
   "nbconvert_exporter": "python",
   "pygments_lexer": "ipython3",
   "version": "3.8.13"
  }
 },
 "nbformat": 4,
 "nbformat_minor": 5
}
